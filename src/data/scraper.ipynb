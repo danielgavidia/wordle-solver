{
 "cells": [
  {
   "cell_type": "code",
   "execution_count": 10,
   "metadata": {},
   "outputs": [],
   "source": [
    "import pandas as pd\n",
    "import numpy as np\n",
    "import json\n",
    "import requests\n",
    "from bs4 import BeautifulSoup"
   ]
  },
  {
   "cell_type": "code",
   "execution_count": 11,
   "metadata": {},
   "outputs": [],
   "source": [
    "def parser(link):\n",
    "    r = requests.get(link)\n",
    "    soup = BeautifulSoup(r.content, 'html.parser')\n",
    "\n",
    "    mot = soup.find_all('span', class_='mot')\n",
    "    mot = [i.text.strip() for i in mot]\n",
    "    c1 = [i for i in mot if len(i) < 6]\n",
    "    c2 = [i.split() for i in mot if len(i) > 5]\n",
    "    c2 = [i for j in c2 for i in j]\n",
    "    c3 = c1 + c2\n",
    "\n",
    "    mot2 = soup.find_all('span', class_='mot2')\n",
    "    mot2 = [i.text.strip() for i in mot2]\n",
    "    d1 = [i for i in mot2 if len(i) < 6]\n",
    "    d2 = [i.split() for i in mot2 if len(i) > 5]\n",
    "    d2 = [i for j in d2 for i in j]\n",
    "    d3 = d1 + d2\n",
    "\n",
    "    content = c3 + d3\n",
    "    return content"
   ]
  },
  {
   "cell_type": "code",
   "execution_count": 12,
   "metadata": {},
   "outputs": [],
   "source": [
    "address_list = []\n",
    "for i in range(1, 16):\n",
    "    address = 'https://www.bestwordlist.com/5letterwordspage' + str(i) + '.htm'\n",
    "    address_list.append(address)\n",
    "\n",
    "address_list[0] = 'https://www.bestwordlist.com/5letterwords.htm'\n",
    "# print(address_list)"
   ]
  },
  {
   "cell_type": "code",
   "execution_count": 13,
   "metadata": {},
   "outputs": [],
   "source": [
    "lst = [parser(link) for link in address_list]\n",
    "lst = [i for j in lst for i in j]\n",
    "# print(lst)\n",
    "# print(len(lst))"
   ]
  },
  {
   "cell_type": "code",
   "execution_count": 14,
   "metadata": {},
   "outputs": [],
   "source": [
    "# get scores for every letter\n",
    "from collections import Counter\n",
    "letter_lst = [i for j in lst for i in j]\n",
    "# print(letter_lst)\n",
    "\n",
    "d = dict(Counter(letter_lst))\n",
    "# print(d)"
   ]
  },
  {
   "cell_type": "code",
   "execution_count": 15,
   "metadata": {},
   "outputs": [],
   "source": [
    "# determine max score\n",
    "letter_scores = list(d.values())\n",
    "max_score = max(letter_scores) * 5\n",
    "# print(letter_scores)\n",
    "# print(max_score)\n",
    "\n",
    "# get frequency score\n",
    "def frequency_score(word, scores_dict, max_score):\n",
    "    scores_array = []\n",
    "    for i in word:\n",
    "        scores_array.append(scores_dict.get(i))\n",
    "\n",
    "    scores_array = sum(scores_array) / max_score\n",
    "    return scores_array\n",
    "\n",
    "# print(frequency_score('ABACK', d, max_score))"
   ]
  },
  {
   "cell_type": "code",
   "execution_count": 16,
   "metadata": {},
   "outputs": [],
   "source": [
    "# get dissimilary score\n",
    "def dissim_score(word):\n",
    "    word_set = set(word)\n",
    "    word_score = len(word_set) / len(word)\n",
    "    return word_score\n",
    "\n",
    "# print(dissim_score('ABACK'))"
   ]
  },
  {
   "cell_type": "code",
   "execution_count": 17,
   "metadata": {},
   "outputs": [],
   "source": [
    "import math\n",
    "\n",
    "# frequency score array\n",
    "frequency_score_array = [frequency_score(i, d, max_score) for i in lst]\n",
    "\n",
    "# dissimilary score array\n",
    "dissim_score_array = [dissim_score(i) for i in lst]\n",
    "\n",
    "# final score array\n",
    "final_score_array = list(np.add(frequency_score_array, dissim_score_array))\n",
    "final_score_array_max = max(final_score_array)\n",
    "final_score_array_min = min(final_score_array)\n",
    "final_score_array = [(((i - final_score_array_min) / (final_score_array_max - final_score_array_min)) * 100) for i in final_score_array]\n",
    "# print(final_score_array)\n",
    "\n",
    "# create list of tuples\n",
    "def merge(list1, list2):\n",
    "    merged_list = list(zip(list1, list2))\n",
    "    return merged_list\n",
    "\n",
    "tup_lst = merge(lst, final_score_array)\n",
    "tup_lst = [{\"word\": i.upper(), \"score\": round(j*10)} for i, j in tup_lst]\n",
    "tup_lst = sorted(tup_lst, key=lambda d: d['score'])\n",
    "# print(tup_lst)"
   ]
  },
  {
   "cell_type": "code",
   "execution_count": 18,
   "metadata": {},
   "outputs": [],
   "source": [
    "# with open('data.json', 'w') as json_file:\n",
    "#     json.dump(tup_lst, json_file)"
   ]
  }
 ],
 "metadata": {
  "kernelspec": {
   "display_name": "Python 3",
   "language": "python",
   "name": "python3"
  },
  "language_info": {
   "codemirror_mode": {
    "name": "ipython",
    "version": 3
   },
   "file_extension": ".py",
   "mimetype": "text/x-python",
   "name": "python",
   "nbconvert_exporter": "python",
   "pygments_lexer": "ipython3",
   "version": "3.10.2"
  },
  "orig_nbformat": 4,
  "vscode": {
   "interpreter": {
    "hash": "81dc7d14309c891819ed7e6d193136f34ff75e4f462a3b0a12303aa148ce7d23"
   }
  }
 },
 "nbformat": 4,
 "nbformat_minor": 2
}
